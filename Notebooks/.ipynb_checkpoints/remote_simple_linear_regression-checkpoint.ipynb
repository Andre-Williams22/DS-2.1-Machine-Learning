{
 "cells": [
  {
   "cell_type": "markdown",
   "metadata": {},
   "source": [
    "## Learning Objectives \n",
    "\n",
<<<<<<< HEAD
    "- Review of Linear Regression that we learned in QL\n",
    "\n",
    "- How we can obtain the best slope and intercept using sklearn \n",
    "\n",
    "- How we can evaluate the linear regression model"
=======
    "By the end of today's class, you should be able to...\n",
    "\n",
    "- Recall and apply Linear Regression concepts from QL 1.1\n",
    "\n",
    "- Discern how to obtain the best slope and intercept using [sklearn](https://scikit-learn.org/stable/)\n",
    "\n",
    "- Evaluate the linear regression model"
>>>>>>> b4e1ee2df0b7d3c81e97ef2d010f9ecf5d58b2fe
   ]
  },
  {
   "cell_type": "markdown",
   "metadata": {},
   "source": [
    "## Review of Linear Regression\n",
    "\n",
<<<<<<< HEAD
    "- We want to present the relationship between variables linearly, for example, recall the running distance and drinking water \n",
    "\n",
    "- In regression, we are interested in predicting a scalar-valued target, such as the price of a stock.\n",
    "\n",
    "- By linear, we mean that the target must be predicted as a linear function of the inputs"
=======
    "- We want to present the relationship between two variables linearly\n",
    "    - For example, recall the [example relationship between running distance and drinking water](https://github.com/Make-School-Courses/QL-1.1-Quantitative-Reasoning/blob/master/Final_Project/Final_Project.ipynb)\n",
    "\n",
    "- In _regression_, we are interested in predicting a scalar-valued target, such as the price of a stock.\n",
    "\n",
    "- By _linear_, we mean that the target must be predicted as a linear function of the inputs"
>>>>>>> b4e1ee2df0b7d3c81e97ef2d010f9ecf5d58b2fe
   ]
  },
  {
   "cell_type": "markdown",
   "metadata": {},
   "source": [
    "## Simple Linear Regression \n",
    "\n",
    "<img src=\"Images/lreg_1.png\" width=\"600\" height=\"600\">\n",
    "\n",
    "\n",
<<<<<<< HEAD
    "What elements are present in the diagram?\n",
    "\n",
    "The black dots are the observed values of x and y.\n",
    "\n",
    "The blue line is our prediction.\n",
    "\n",
    "The red lines are the errors, which are the distances between the observed values and the prediction."
=======
    "### Question to the Class: What elements are present in the graph shown above?\n",
    "\n",
    "<!-- The black dots are the observed values of x and y, The blue line is our prediction, The red lines are the errors, which are the distances between the observed values and the prediction. -->"
   ]
  },
  {
   "cell_type": "markdown",
   "metadata": {},
   "source": [
    "## Sklearn\n",
    "\n",
    "In QL, we did a lot of manual calculation to find what we needed. Today, we will learn how to use the sklearn library to do a lot of this calculation for us!\n",
    "\n",
    "### Activity\n",
    "\n",
    "- On your own, take 5 minutes to read through the [Getting Started](https://scikit-learn.org/stable/getting_started.html) guide from sklearn.\n"
>>>>>>> b4e1ee2df0b7d3c81e97ef2d010f9ecf5d58b2fe
   ]
  },
  {
   "cell_type": "markdown",
   "metadata": {},
   "source": [
    "## Activity: \n",
    "\n",
<<<<<<< HEAD
    "- The distances that a runner has been run (in Mile) and the amount of water that he/she drinks (in Liters) is given \n",
    "\n",
    "## Do:\n",
    "\n",
    "- Plot the scatter of distance versus water that consumed  \n",
    "- Find the best line that describes this relationship\n",
    "- Plot the best line that you found"
=======
    "We're going to revisit the example from QL with runners and water. You can assume that you are given the following data:\n",
    "\n",
    "- Distance that a runner has run (in Miles)\n",
    "- The amount of water that they drink (in Liters)\n",
    "\n",
    "**Get in groups of 3 to complete the following activity**\n",
    "\n",
    "## Given the below data, complete the following:\n",
    "\n",
    "- Plot the scatter of distance versus water that consumed  \n",
    "- Find the best line that describes this relationship\n",
    "- Plot the best line that you found\n",
    "\n",
    "**Hint:** [Matplotlib](https://matplotlib.org/api/pyplot_api.html)"
   ]
  },
  {
   "cell_type": "code",
   "execution_count": 6,
   "metadata": {},
   "outputs": [],
   "source": [
    "import numpy as np\n",
    "\n",
    "# Distance run in miles\n",
    "X = np.array([3.3,4.4,5.5,6.71,6.93,4.168,9.779,6.182,7.59,2.167,\n",
    "                         7.042,10.791,5.313,7.997,5.654,9.27,3.1])\n",
    "\n",
    "# Amount of water consumed in liters\n",
    "Y = np.array([1.7,2.76,2.09,3.19,1.694,1.573,3.366,2.596,2.53,1.221,\n",
    "                         2.827,3.465,1.65,2.904,2.42,2.94,1.3])"
>>>>>>> b4e1ee2df0b7d3c81e97ef2d010f9ecf5d58b2fe
   ]
  },
  {
   "cell_type": "code",
<<<<<<< HEAD
   "execution_count": 2,
=======
   "execution_count": 7,
>>>>>>> b4e1ee2df0b7d3c81e97ef2d010f9ecf5d58b2fe
   "metadata": {},
   "outputs": [
    {
     "data": {
      "text/plain": [
<<<<<<< HEAD
       "Text(0,0.5,'Water Drinks (Litre)')"
      ]
     },
     "execution_count": 2,
=======
       "Text(0, 0.5, 'Water Drinks (Litre)')"
      ]
     },
     "execution_count": 7,
>>>>>>> b4e1ee2df0b7d3c81e97ef2d010f9ecf5d58b2fe
     "metadata": {},
     "output_type": "execute_result"
    },
    {
     "data": {
<<<<<<< HEAD
      "image/png": "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\n",
=======
      "image/png": "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\n",
>>>>>>> b4e1ee2df0b7d3c81e97ef2d010f9ecf5d58b2fe
      "text/plain": [
       "<Figure size 432x288 with 1 Axes>"
      ]
     },
<<<<<<< HEAD
     "metadata": {},
=======
     "metadata": {
      "needs_background": "light"
     },
>>>>>>> b4e1ee2df0b7d3c81e97ef2d010f9ecf5d58b2fe
     "output_type": "display_data"
    }
   ],
   "source": [
<<<<<<< HEAD
    "import numpy as np\n",
    "import matplotlib.pyplot as plt\n",
    "\n",
    "X = np.array([3.3,4.4,5.5,6.71,6.93,4.168,9.779,6.182,7.59,2.167,\n",
    "                         7.042,10.791,5.313,7.997,5.654,9.27,3.1])\n",
    "\n",
    "\n",
    "Y = np.array([1.7,2.76,2.09,3.19,1.694,1.573,3.366,2.596,2.53,1.221,\n",
    "                         2.827,3.465,1.65,2.904,2.42,2.94,1.3])\n",
    "\n",
=======
    "import matplotlib.pyplot as plt\n",
    "\n",
>>>>>>> b4e1ee2df0b7d3c81e97ef2d010f9ecf5d58b2fe
    "plt.scatter(X, Y)\n",
    "plt.xlabel('Running Distance (Mile)')\n",
    "plt.ylabel('Water Drinks (Litre)')"
   ]
  },
  {
   "cell_type": "markdown",
   "metadata": {},
   "source": [
<<<<<<< HEAD
    "## Important data format passing to sklearn:"
=======
    "## Reshape your data when passing to sklearn:"
>>>>>>> b4e1ee2df0b7d3c81e97ef2d010f9ecf5d58b2fe
   ]
  },
  {
   "cell_type": "code",
<<<<<<< HEAD
   "execution_count": 12,
=======
   "execution_count": 9,
>>>>>>> b4e1ee2df0b7d3c81e97ef2d010f9ecf5d58b2fe
   "metadata": {},
   "outputs": [
    {
     "name": "stdout",
     "output_type": "stream",
     "text": [
      "[[ 3.3  ]\n",
      " [ 4.4  ]\n",
      " [ 5.5  ]\n",
      " [ 6.71 ]\n",
      " [ 6.93 ]\n",
      " [ 4.168]\n",
      " [ 9.779]\n",
      " [ 6.182]\n",
      " [ 7.59 ]\n",
      " [ 2.167]\n",
      " [ 7.042]\n",
      " [10.791]\n",
      " [ 5.313]\n",
      " [ 7.997]\n",
<<<<<<< HEAD
      " [ 5.654]]\n"
=======
      " [ 5.654]\n",
      " [ 9.27 ]\n",
      " [ 3.1  ]]\n"
>>>>>>> b4e1ee2df0b7d3c81e97ef2d010f9ecf5d58b2fe
     ]
    }
   ],
   "source": [
<<<<<<< HEAD
    "X = np.array([3.3,4.4,5.5,6.71,6.93,4.168,9.779,6.182,7.59,2.167,\n",
    "                         7.042,10.791,5.313,7.997,5.654])\n",
    "\n",
=======
    "# Passing 1-arrays as data is deprecated. Because of this,\n",
    "# we must reshape our data using X.reshape(-1, 1) since our data has a single feature\n",
>>>>>>> b4e1ee2df0b7d3c81e97ef2d010f9ecf5d58b2fe
    "print(X.reshape(-1, 1))"
   ]
  },
  {
   "cell_type": "markdown",
   "metadata": {},
   "source": [
<<<<<<< HEAD
    "## Activity: Obtain the best slope and intercept for given data using sklearn"
=======
    "## Activity: Obtain the best slope and intercept for the given data using sklearn\n",
    "\n",
    "**Hints:** The following documentation will be useful:\n",
    "- [LinearRegression](https://scikit-learn.org/stable/modules/generated/sklearn.linear_model.LinearRegression.html)\n",
    "- Review the `fit` method in the above documentation\n",
    "- Review the `Attributes` in the above documentation to see where to find the best slope and intercept\n",
    "- Remember to reshape your data!"
>>>>>>> b4e1ee2df0b7d3c81e97ef2d010f9ecf5d58b2fe
   ]
  },
  {
   "cell_type": "code",
   "execution_count": 3,
   "metadata": {},
   "outputs": [
    {
     "name": "stdout",
     "output_type": "stream",
     "text": [
      "[[0.25163494]]\n",
      "[0.79880123]\n"
     ]
    }
   ],
   "source": [
    "from sklearn.linear_model import LinearRegression\n",
    "\n",
    "lr_reg = LinearRegression()\n",
    "\n",
    "lr_reg.fit(X.reshape(-1, 1), Y.reshape(-1, 1))\n",
    "\n",
    "print(lr_reg.coef_)\n",
    "\n",
    "print(lr_reg.intercept_)"
   ]
  },
  {
   "cell_type": "markdown",
   "metadata": {},
   "source": [
    "## Question: \n",
    "\n",
<<<<<<< HEAD
    "- If this runner runs for 5 miles, how much water he/she will drink?"
=======
    "- Use the code you wrote above to predict how much water a runner will drink if they run for 5 miles"
>>>>>>> b4e1ee2df0b7d3c81e97ef2d010f9ecf5d58b2fe
   ]
  },
  {
   "cell_type": "code",
   "execution_count": 4,
   "metadata": {},
   "outputs": [
    {
     "data": {
      "text/plain": [
       "array([[2.05697595]])"
      ]
     },
     "execution_count": 4,
     "metadata": {},
     "output_type": "execute_result"
    }
   ],
   "source": [
    "lr_reg.predict([[5.0]])"
   ]
  },
  {
   "cell_type": "markdown",
   "metadata": {},
   "source": [
<<<<<<< HEAD
    "## Question: \n",
    "\n",
    "- What is the mean-squared-error of our Linear Regression Model?"
=======
    "## Question: what are the metrics in order to evaluate Regression Model?\n",
    "\n",
    "1 - Mean-Squared-Error (MSE)\n",
    "\n",
    "2- R-Squared: is a number between 0 to 1, close to one means better model"
   ]
  },
  {
   "cell_type": "markdown",
   "metadata": {},
   "source": [
    "## Question: \n",
    "\n",
    "- What is the mean-squared-error of our Linear Regression Model?\n",
    "\n",
    "**Hints:**\n",
    "\n",
    "- Given the slope ($w_1$) and intercept ($w_0$), we can use the following formula to find the mean-square-error (MSE):\n",
    "    - $MSE = f(w_1, w_0)= \\frac{1}{N} \\sum_{i=0}^{N-1} (w_1x[i] + w_0 - y[i])^2$\n",
    "- How could the map function help you find `y_predicted`?"
>>>>>>> b4e1ee2df0b7d3c81e97ef2d010f9ecf5d58b2fe
   ]
  },
  {
   "cell_type": "code",
   "execution_count": 7,
   "metadata": {},
   "outputs": [
    {
     "name": "stdout",
     "output_type": "stream",
     "text": [
      "0.15385767404191164\n"
     ]
    },
    {
     "data": {
      "image/png": "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\n",
      "text/plain": [
       "<Figure size 432x288 with 1 Axes>"
      ]
     },
     "metadata": {},
     "output_type": "display_data"
    }
   ],
   "source": [
    "y_predicted = list(map(lambda x: 0.25163494*x + 0.79880123, X))\n",
    "plt.scatter(X, Y)\n",
    "plt.plot(X, y_predicted ,'r')\n",
    "error = sum([ (i-j)**2 for i, j in zip(Y, y_predicted) ]) / len(Y)\n",
    "print(error)"
   ]
  },
  {
   "cell_type": "markdown",
   "metadata": {},
   "source": [
<<<<<<< HEAD
    "## Question: what are the metrics in order to evaluate Regression Model?\n",
    "\n",
    "1 - Mean-Squared-Error (MSE)\n",
    "\n",
    "2- R-Squared: is a number between 0 to 1, close to one means better model"
   ]
  },
  {
   "cell_type": "markdown",
   "metadata": {},
   "source": [
    "## Activity: How much companies' sales would be based on their product advertisement?\n",
    "\n",
    "- Different companies (150 companies) spent money to advertise their product on TV, radio and newspaper\n",
    "\n",
    "- Based on their advertisments, they have calculated the sale that they had\n",
    "\n",
    "- For some new companies (50), they want to have an estimation if spend X dollar, Y dollar and Z dollar \n",
    "\n",
    "on TV, radio and newspaper, respectively, how much their sales would be?"
=======
    "## Activity: How much companies' sales would be based on their product advertisement?\n",
    "\n",
    "- We have a dataset of 200 companies, comprised of the top 150 companies, and the bottom 50 companies.\n",
    "\n",
    "- The top companies (150) spent money to advertise their product on TV, radio and newspaper\n",
    "\n",
    "- Based on their advertisments, they have calculated the sale that they had\n",
    "\n",
    "- For the bottom companies (50), they want to have an estimation for the following: **if they spend X dollar, Y dollar and Z dollar on TV, radio and newspaper, respectively, how much would their predicted sales be?**\n",
    "\n",
    "- We will use the top 150 companies in our dataset to train the model, and the bottom 50 companies to check that the model is working correctly\n",
    "\n",
    "**In your group of 3**, use the [Advertising](Datasets/Advertising.csv) dataset and the starter code below to get started:"
   ]
  },
  {
   "cell_type": "code",
   "execution_count": null,
   "metadata": {},
   "outputs": [],
   "source": [
    "import pandas as pd\n",
    "from sklearn.linear_model import LinearRegression\n",
    "from sklearn.metrics import r2_score\n",
    "\n",
    "\n",
    "df = pd.read_csv(\"Advertising.csv\")\n",
    "feature_cols = [\"TV\", \"radio\", \"newspaper\"]\n",
    "\n",
    "# Use the top 150 companies to train the Linear Regression Model\n",
    "X_train = df[feature_cols][:150]\n",
    "Y_train = df.sales[:150]\n",
    "\n",
    "# TODO: Instansiate the model (Linear Regression) and train it\n",
    "\n",
    "# TODO: Predict the botton 50 companies' sales"
   ]
  },
  {
   "cell_type": "markdown",
   "metadata": {},
   "source": [
    "### Solution"
>>>>>>> b4e1ee2df0b7d3c81e97ef2d010f9ecf5d58b2fe
   ]
  },
  {
   "cell_type": "code",
   "execution_count": 8,
   "metadata": {},
   "outputs": [
    {
     "name": "stdout",
     "output_type": "stream",
     "text": [
      "Generating a linear regression on the top 150 companies (first one)\n",
      "Printing the coefficient and y intercept of our first 150 sales\n",
      "[ 0.04700012  0.17993257 -0.00140273]\n",
      "3.0297667962936856\n",
      "Predicting the sales of the bottom 50 companies (last ones)\n",
      "[18.67186188 10.15990172 16.48950045 18.17132726 15.63964047  5.30168953\n",
      " 15.19930681 10.27021058 10.15577653 12.48190724 14.35100299 13.43010832\n",
      " 15.10545883 17.32542469 11.17561481 14.54411372 10.60623457 13.6578278\n",
      " 17.31920373 18.29020846  7.44118029 14.4553876   7.54376735 12.20415315\n",
      " 14.07598825 24.7841683  20.11008458 12.38328494 16.41529992 12.58762415\n",
      " 10.84616747 14.23249384  6.65512798 24.18338541 18.74887883 20.75225663\n",
      "  9.92682913 17.15002463 18.96767352  6.05302918 12.27336433  8.51313117\n",
      "  4.53156602 18.42150484 16.46286778  5.47156415  8.32748549 13.01318332\n",
      " 23.82330766 15.4737108 ]\n",
      "0.8963519785440214\n",
      "0.8963519785440214\n"
     ]
    }
   ],
   "source": [
    "import pandas as pd\n",
    "from sklearn.linear_model import LinearRegression\n",
    "from sklearn.metrics import r2_score\n",
    "\n",
    "\n",
    "df = pd.read_csv(\"Advertising.csv\")\n",
    "feature_cols = [\"TV\", \"radio\", \"newspaper\"]\n",
    "\n",
    "# Use the top 150 companies to train the Linear Regression Model\n",
    "X_train = df[feature_cols][:150]\n",
    "Y_train = df.sales[:150]\n",
    "\n",
    "# Instansiate the model (Linear Regression) and train it\n",
    "print(\"Generating a linear regression on the top 150 companies (first one)\")\n",
    "sales_reg = LinearRegression()\n",
    "sales_reg.fit(X_train, Y_train)\n",
    "\n",
    "print(\"Printing the coefficient and y intercept of our first 150 sales\")\n",
    "print(sales_reg.coef_)\n",
    "print(sales_reg.intercept_)\n",
    "\n",
    "# Predict the botton 50 companies' sales\n",
    "X_test = df[feature_cols][-50:]\n",
    "Y_test = df.sales[-50:]\n",
    "print(\"Predicting the sales of the bottom 50 companies (last ones)\")\n",
    "print(sales_reg.predict(X_test))\n",
    "\n",
    "print(sales_reg.score(X_test, Y_test))\n",
    "print(r2_score(Y_test, sales_reg.predict(X_test)))"
   ]
  },
  {
   "cell_type": "markdown",
   "metadata": {},
   "source": [
<<<<<<< HEAD
    "### Question: If a new company spends  100, 100 and 20 on TV, radio and newspaper, respectively on advertisement:\n",
    "\n",
    "### How much sale it would have?"
=======
    "### Question: If a new company spends  100, 100, and 20 dollars on TV, radio and newspaper, respectively on advertising, how much sales would you predict they have?\n",
    "\n",
    "You should only need 1 line of code to find the answer!"
>>>>>>> b4e1ee2df0b7d3c81e97ef2d010f9ecf5d58b2fe
   ]
  },
  {
   "cell_type": "code",
   "execution_count": 9,
   "metadata": {},
   "outputs": [
    {
     "data": {
      "text/plain": [
       "array([25.69498118])"
      ]
     },
     "execution_count": 9,
     "metadata": {},
     "output_type": "execute_result"
    }
   ],
   "source": [
    "sales_reg.predict([[100, 100, 20]])"
   ]
  },
  {
<<<<<<< HEAD
=======
   "cell_type": "markdown",
   "metadata": {},
   "source": [
    "## Resources\n",
    "\n",
    "- [A beginner’s guide to Linear Regression in Python with Scikit-Learn](https://towardsdatascience.com/a-beginners-guide-to-linear-regression-in-python-with-scikit-learn-83a8f7ae2b4f)\n",
    "- [Sklearn User Guide](https://scikit-learn.org/stable/user_guide.html)\n",
    "- [Linear Regression Example with Sklearn](https://scikit-learn.org/stable/auto_examples/linear_model/plot_ols.html)"
   ]
  },
  {
>>>>>>> b4e1ee2df0b7d3c81e97ef2d010f9ecf5d58b2fe
   "cell_type": "code",
   "execution_count": null,
   "metadata": {},
   "outputs": [],
   "source": []
  }
 ],
 "metadata": {
  "kernelspec": {
   "display_name": "Python 3",
   "language": "python",
   "name": "python3"
  },
  "language_info": {
   "codemirror_mode": {
    "name": "ipython",
    "version": 3
   },
   "file_extension": ".py",
   "mimetype": "text/x-python",
   "name": "python",
   "nbconvert_exporter": "python",
   "pygments_lexer": "ipython3",
<<<<<<< HEAD
   "version": "3.7.6"
=======
   "version": "3.7.5"
>>>>>>> b4e1ee2df0b7d3c81e97ef2d010f9ecf5d58b2fe
  }
 },
 "nbformat": 4,
 "nbformat_minor": 2
}
